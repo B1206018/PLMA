{
  "cells": [
    {
      "cell_type": "code",
      "execution_count": null,
      "metadata": {
        "colab": {
          "base_uri": "https://localhost:8080/"
        },
        "id": "eNM16Adn5arq",
        "outputId": "0dc40ef4-33f1-42c5-c4a5-dfba63a5eb61"
      },
      "outputs": [
        {
          "output_type": "stream",
          "name": "stdout",
          "text": [
            "1x1=1   2x1=2   3x1=3   4x1=4   5x1=5   6x1=6   7x1=7   8x1=8   9x1=9   \n",
            "1x2=2   2x2=4   3x2=6   4x2=8   5x2=10  6x2=12  7x2=14  8x2=16  9x2=18  \n",
            "1x3=3   2x3=6   3x3=9   4x3=12  5x3=15  6x3=18  7x3=21  8x3=24  9x3=27  \n",
            "1x4=4   2x4=8   3x4=12  4x4=16  5x4=20  6x4=24  7x4=28  8x4=32  9x4=36  \n",
            "1x5=5   2x5=10  3x5=15  4x5=20  5x5=25  6x5=30  7x5=35  8x5=40  9x5=45  \n",
            "1x6=6   2x6=12  3x6=18  4x6=24  5x6=30  6x6=36  7x6=42  8x6=48  9x6=54  \n",
            "1x7=7   2x7=14  3x7=21  4x7=28  5x7=35  6x7=42  7x7=49  8x7=56  9x7=63  \n",
            "1x8=8   2x8=16  3x8=24  4x8=32  5x8=40  6x8=48  7x8=56  8x8=64  9x8=72  \n",
            "1x9=9   2x9=18  3x9=27  4x9=36  5x9=45  6x9=54  7x9=63  8x9=72  9x9=81  \n"
          ]
        }
      ],
      "source": [
        "a=1\n",
        "while a<10:\n",
        " b=1\n",
        " while b<10:\n",
        "  if a*b>=10:\n",
        "    print (f'{b}x{a}={a*b}',end=' '*2)\n",
        "  else:\n",
        "    print(f'{b}x{a}={a*b}',end=' '*3)\n",
        "  b+=1\n",
        " a+=1\n",
        "\n",
        " print()\n"
      ]
    },
    {
      "cell_type": "code",
      "source": [
        "import random\n",
        "\n",
        "answer=random.sample(range(1,10),4)\n",
        "print(f\"答案:{answer}\")\n",
        "\n",
        "a=b=n=0\n",
        "number=0\n",
        "c=list(input(\"請輸入4個數字(不會重複)：\"))\n",
        "\n",
        "if len(c) !=4:\n",
        "  c=list(input(\"輸入數字過多，請輸入4個數字(不會重複):\"))\n",
        "else:\n",
        "  c=list(input(\"請輸入4個數字(不會重複)\"))\n",
        "\n",
        "for i in c:\n",
        "  if int(c[n])==answer[n]:\n",
        "    a+=1\n",
        "  elif int(i) in answer:\n",
        "    b+=1\n",
        "  n+=1\n",
        "\n",
        "  print(f\"{c}:{a}A{b}B\")\n",
        "  number+=1\n",
        "\n",
        "print(f\"答對了!總共猜了{number}次\")"
      ],
      "metadata": {
        "colab": {
          "base_uri": "https://localhost:8080/"
        },
        "id": "7QbaWMoW05uY",
        "outputId": "0b461049-1002-40fe-cf4d-77999edd4d5c"
      },
      "execution_count": null,
      "outputs": [
        {
          "output_type": "stream",
          "name": "stdout",
          "text": [
            "答案:[9, 8, 5, 3]\n",
            "請輸入4個數字(不會重複)：12345\n",
            "輸入數字過多，請輸入4個數字(不會重複):9853\n",
            "['9', '8', '5', '3']:1A0B\n",
            "['9', '8', '5', '3']:2A0B\n",
            "['9', '8', '5', '3']:3A0B\n",
            "['9', '8', '5', '3']:4A0B\n",
            "答對了!總共猜了4次\n"
          ]
        }
      ]
    }
  ],
  "metadata": {
    "colab": {
      "provenance": []
    },
    "kernelspec": {
      "display_name": "Python 3",
      "name": "python3"
    },
    "language_info": {
      "name": "python"
    }
  },
  "nbformat": 4,
  "nbformat_minor": 0
}