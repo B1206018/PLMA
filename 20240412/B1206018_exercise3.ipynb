{
  "nbformat": 4,
  "nbformat_minor": 0,
  "metadata": {
    "colab": {
      "provenance": []
    },
    "kernelspec": {
      "name": "python3",
      "display_name": "Python 3"
    },
    "language_info": {
      "name": "python"
    }
  },
  "cells": [
    {
      "cell_type": "code",
      "execution_count": null,
      "metadata": {
        "colab": {
          "base_uri": "https://localhost:8080/"
        },
        "id": "7vSsfnvN0WHo",
        "outputId": "2f81cd54-cae9-40e6-b700-629f0700ce1c"
      },
      "outputs": [
        {
          "output_type": "stream",
          "name": "stdout",
          "text": [
            "請輸入身高(cm):100\n",
            "請輸入體重(kg):20\n",
            "BMI: 20.0\n",
            "體位:適中\n"
          ]
        }
      ],
      "source": [
        "a=float(input(\"請輸入身高(cm):\"))\n",
        "b=float(input(\"請輸入體重(kg):\"))\n",
        "a/=100\n",
        "a**=2\n",
        "c=b/a\n",
        "print(\"BMI:\",c)\n",
        "\n",
        "if c<18.5:\n",
        "  print('體位：過輕')\n",
        "elif 18.5<=c<24:\n",
        "  print('體位:適中')\n",
        "elif 24<=c<27:\n",
        "  print('體位:過重')\n",
        "else:\n",
        "  print('體位:肥胖')"
      ]
    },
    {
      "cell_type": "code",
      "source": [
        "a=float(input(\"請輸入第一個數字:\"))\n",
        "b=input(\"請輸入運算符號:\")\n",
        "c=float(input(\"請輸入第二個數字:\"))\n",
        "\n",
        "if b=='+':\n",
        "  print(a+c)\n",
        "elif b=='-':\n",
        "  print(a-c)\n",
        "elif b=='*':\n",
        "  print(a*c)\n",
        "elif b=='/':\n",
        "  print(a/c)"
      ],
      "metadata": {
        "colab": {
          "base_uri": "https://localhost:8080/"
        },
        "id": "4ghA-Qy280mo",
        "outputId": "38337080-8d7c-4625-a862-499bf045292f"
      },
      "execution_count": null,
      "outputs": [
        {
          "output_type": "stream",
          "name": "stdout",
          "text": [
            "請輸入第一個數字:2\n",
            "請輸入運算符號:+\n",
            "請輸入第二個數字:3\n",
            "5.0\n"
          ]
        }
      ]
    }
  ]
}