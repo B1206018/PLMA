{
  "nbformat": 4,
  "nbformat_minor": 0,
  "metadata": {
    "colab": {
      "provenance": []
    },
    "kernelspec": {
      "name": "python3",
      "display_name": "Python 3"
    },
    "language_info": {
      "name": "python"
    }
  },
  "cells": [
    {
      "cell_type": "code",
      "execution_count": null,
      "metadata": {
        "colab": {
          "base_uri": "https://localhost:8080/"
        },
        "id": "Z1EYnZ2uDLT6",
        "outputId": "13d87d28-54ca-44fc-cac4-564e9a964cb7"
      },
      "outputs": [
        {
          "output_type": "stream",
          "name": "stdout",
          "text": [
            "請輸入年份:2500\n",
            "平年\n"
          ]
        }
      ],
      "source": [
        "a=int(input(\"請輸入年份:\"))\n",
        "\n",
        "if 0<=a<=1582:\n",
        " if a%4==0:\n",
        "  print('閏年')\n",
        " else:\n",
        "  print('平年')\n",
        "\n",
        "else:\n",
        " if a%4==0:\n",
        "  if a%100==0:\n",
        "   if a%400==0:\n",
        "    print('閏年')\n",
        "   else:\n",
        "      print('平年')\n",
        "  else:\n",
        "   print('閏年')\n",
        " else:\n",
        "  print('平年')"
      ]
    }
  ]
}